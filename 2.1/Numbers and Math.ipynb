{
 "cells": [
  {
   "cell_type": "code",
   "execution_count": null,
   "id": "c4f3b429-2006-4454-8b6e-5c684d2c58cc",
   "metadata": {},
   "outputs": [],
   "source": [
    "print(\"I have a class of 33 students.\")"
   ]
  },
  {
   "cell_type": "markdown",
   "id": "f9bc6fd9-f678-413f-a711-5de42ad196e8",
   "metadata": {},
   "source": [
    "this line prints out the string \"I have a class of 33 students.\" marked in quotation marks within the parentheses."
   ]
  },
  {
   "cell_type": "code",
   "execution_count": 15,
   "id": "ef09bd10-310d-4e6b-be58-8d258971b90a",
   "metadata": {},
   "outputs": [
    {
     "name": "stdout",
     "output_type": "stream",
     "text": [
      "There are 11 girls, so that means..\n"
     ]
    }
   ],
   "source": [
    "print(\"There are 11 girls, so that means..\")"
   ]
  },
  {
   "cell_type": "markdown",
   "id": "516cb030-e050-4091-9d45-664696f1ecc7",
   "metadata": {},
   "source": [
    "This line prints out \"there are 11 girls, so that means...\" when run."
   ]
  },
  {
   "cell_type": "code",
   "execution_count": 9,
   "id": "00ad6154-43e4-4e4d-bf02-6fb5a39fa32c",
   "metadata": {},
   "outputs": [
    {
     "name": "stdout",
     "output_type": "stream",
     "text": [
      "there are 22 boys.\n"
     ]
    }
   ],
   "source": [
    "print(\"there are \" + str(33 - 11) + \" boys.\")"
   ]
  },
  {
   "cell_type": "markdown",
   "id": "9f848daa-2bd3-4219-8056-2e5107b7e148",
   "metadata": {},
   "source": [
    "this line takes three strings, and with the '+' sign adds them together to form one phrase \"there are 22 boys.\""
   ]
  },
  {
   "cell_type": "code",
   "execution_count": 39,
   "id": "281f82be-f6d3-4f85-b93d-4043de6104d3",
   "metadata": {},
   "outputs": [
    {
     "name": "stdout",
     "output_type": "stream",
     "text": [
      "\n"
     ]
    }
   ],
   "source": [
    "print()"
   ]
  },
  {
   "cell_type": "markdown",
   "id": "cc719fb8-723e-473c-af38-d7e0c01d768e",
   "metadata": {},
   "source": [
    "Here we note that there is nothing within the parentheses of the print function. When run, it will print out an empty line, which in the context of this code acts as a double space to seperate phrases."
   ]
  },
  {
   "cell_type": "code",
   "execution_count": 11,
   "id": "6bf47983-380f-4085-ab24-f318b422137f",
   "metadata": {},
   "outputs": [
    {
     "name": "stdout",
     "output_type": "stream",
     "text": [
      "That means 0.3333333333333333 % are girls...\n"
     ]
    }
   ],
   "source": [
    "print(f\"That means {11 / 33} % are girls...\")"
   ]
  },
  {
   "cell_type": "markdown",
   "id": "7977e1ab-423a-448d-975d-bdc7dfddc5d8",
   "metadata": {},
   "source": [
    "We can see in front of the quotation marks within the parentheses is an \"f\". this stands for format. Despite being within a string (as marked by the quotations), math done within the squiggly brackets is applicable and when run will print out the answer. This is called an f-string."
   ]
  },
  {
   "cell_type": "code",
   "execution_count": 13,
   "id": "5a28ad55-8b73-4490-bd5d-0c0d978c7ca7",
   "metadata": {},
   "outputs": [
    {
     "name": "stdout",
     "output_type": "stream",
     "text": [
      "and 0.6666666666666666 % are boys.\n"
     ]
    }
   ],
   "source": [
    "print(\"and {} % are boys.\".format((33 - 11) / 33))"
   ]
  },
  {
   "cell_type": "markdown",
   "id": "d16e17ef-84f3-4aaf-a13e-587e206427b9",
   "metadata": {},
   "source": [
    "In this line, \"dot format\" is being used. similar to the one above, it uses squiggly brackets within a string to to except the no math rule. However unlike the example before, the calculations are not done within the quotation marks, but within the parentheses of .format()"
   ]
  },
  {
   "cell_type": "code",
   "execution_count": 17,
   "id": "5ac8d5ac-9443-4055-8db5-a2dd772ca7bb",
   "metadata": {},
   "outputs": [
    {
     "name": "stdout",
     "output_type": "stream",
     "text": [
      "\n"
     ]
    }
   ],
   "source": [
    "print()"
   ]
  },
  {
   "cell_type": "code",
   "execution_count": 19,
   "id": "be6ebbd9-7111-45b0-b3d1-62f16df89939",
   "metadata": {},
   "outputs": [
    {
     "name": "stdout",
     "output_type": "stream",
     "text": [
      "If we made groups of six...\n"
     ]
    }
   ],
   "source": [
    "print(\"If we made groups of six...\")"
   ]
  },
  {
   "cell_type": "markdown",
   "id": "9d234407-919e-4f89-a4a5-5004e93b9902",
   "metadata": {},
   "source": [
    "prints out \"if we made groups of six...\""
   ]
  },
  {
   "cell_type": "code",
   "execution_count": 21,
   "id": "da3b1009-0d23-40a8-8932-152b6c8e2515",
   "metadata": {},
   "outputs": [
    {
     "name": "stdout",
     "output_type": "stream",
     "text": [
      "There would be 5 groups of six.\n"
     ]
    }
   ],
   "source": [
    "print(f\"There would be {33 // 6} groups of six.\")"
   ]
  },
  {
   "cell_type": "markdown",
   "id": "5b82276d-4620-4c02-bd18-dbaf803af619",
   "metadata": {},
   "source": [
    "the double slash is known as something called a \"floor divide.\" unlike the usual division function, this will first divide and then round down the answer to the nearest whole number."
   ]
  },
  {
   "cell_type": "code",
   "execution_count": 23,
   "id": "1671458e-7e3a-459d-84e6-cc669a191de0",
   "metadata": {},
   "outputs": [
    {
     "name": "stdout",
     "output_type": "stream",
     "text": [
      "And then a smaller group of 3 people.\n"
     ]
    }
   ],
   "source": [
    "print(f\"And then a smaller group of {33 % 6} people.\")"
   ]
  },
  {
   "cell_type": "markdown",
   "id": "ef87c825-8be1-4185-991e-3b3686862273",
   "metadata": {},
   "source": [
    "the % symbol is called a modulus. In the first few lines of code, we also see the percent symbol being used, however it was done within a string, so it didn't serve any purpose other than as a percentage symbol. Modulus divides the number as a whole number but instead of outputting the answer, it will instead print the remainder."
   ]
  },
  {
   "cell_type": "code",
   "execution_count": 25,
   "id": "22881f71-011d-46d4-a664-837f722789aa",
   "metadata": {},
   "outputs": [
    {
     "name": "stdout",
     "output_type": "stream",
     "text": [
      "------------------------------\n"
     ]
    }
   ],
   "source": [
    "print(\"-\" * 30)"
   ]
  },
  {
   "cell_type": "markdown",
   "id": "792afee0-752d-47d2-b79b-3e3b51482c94",
   "metadata": {},
   "source": [
    "this prints the string \"-\" 30 times."
   ]
  },
  {
   "cell_type": "code",
   "execution_count": 27,
   "id": "4460f2cb-82fa-4108-9e56-0597e573e7ac",
   "metadata": {},
   "outputs": [
    {
     "name": "stdout",
     "output_type": "stream",
     "text": [
      "If we had 17 apples and 3 people...\n"
     ]
    }
   ],
   "source": [
    "print(\"If we had 17 apples and 3 people...\")"
   ]
  },
  {
   "cell_type": "markdown",
   "id": "ddae8739-fe87-49d6-9001-93800f798aa0",
   "metadata": {},
   "source": [
    "prints a string."
   ]
  },
  {
   "cell_type": "code",
   "execution_count": 29,
   "id": "7dcc95b3-1cdd-437f-b216-bf5a920dc13d",
   "metadata": {},
   "outputs": [
    {
     "name": "stdout",
     "output_type": "stream",
     "text": [
      "Each person would get 5 whole apples.\n"
     ]
    }
   ],
   "source": [
    "print(f\"Each person would get {17 // 3} whole apples.\")"
   ]
  },
  {
   "cell_type": "code",
   "execution_count": 31,
   "id": "f35e461c-494b-4814-858c-0a55b961d0e3",
   "metadata": {},
   "outputs": [
    {
     "name": "stdout",
     "output_type": "stream",
     "text": [
      "There would be 2 apples remaining.\n"
     ]
    }
   ],
   "source": [
    "print(\"There would be \" + str(17 % 3) + \" apples remaining.\")"
   ]
  },
  {
   "cell_type": "markdown",
   "id": "6ddcec39-e6be-45ef-9867-785ce9129eb6",
   "metadata": {},
   "source": [
    "This adds multiple strings together. in the middle, modulus is used within parentheses of the string function, allowing it to be added with the other strings. strings cannot be added with floats or integers."
   ]
  },
  {
   "cell_type": "code",
   "execution_count": 33,
   "id": "c08e4066-07cf-4392-882a-be7d17606baa",
   "metadata": {},
   "outputs": [
    {
     "name": "stdout",
     "output_type": "stream",
     "text": [
      "\n"
     ]
    }
   ],
   "source": [
    "print()"
   ]
  },
  {
   "cell_type": "code",
   "execution_count": 35,
   "id": "b39d669f-143f-40c0-a3db-4c848e45e950",
   "metadata": {},
   "outputs": [
    {
     "name": "stdout",
     "output_type": "stream",
     "text": [
      "If we charged each person $2 each for their 5 apples..\n"
     ]
    }
   ],
   "source": [
    "print(\"If we charged each person $2 each for their 5 apples..\")"
   ]
  },
  {
   "cell_type": "code",
   "execution_count": 37,
   "id": "26a5b42b-6aee-42e8-822a-d294d7bb8805",
   "metadata": {},
   "outputs": [
    {
     "name": "stdout",
     "output_type": "stream",
     "text": [
      "they would each pay $10.\n"
     ]
    }
   ],
   "source": [
    "print(\"they would each pay ${}.\".format(2 * 5))"
   ]
  },
  {
   "cell_type": "markdown",
   "id": "17fb7ef9-6818-4d6d-9d81-666ea5a4e98c",
   "metadata": {},
   "source": [
    "Uses dot format. Prints out \"they would each pay $10.\""
   ]
  },
  {
   "cell_type": "code",
   "execution_count": null,
   "id": "9dd750b1-f8de-4bc6-843a-0e697f390456",
   "metadata": {},
   "outputs": [],
   "source": []
  }
 ],
 "metadata": {
  "kernelspec": {
   "display_name": "Python 3",
   "language": "python",
   "name": "python3"
  },
  "language_info": {
   "codemirror_mode": {
    "name": "ipython",
    "version": 3
   },
   "file_extension": ".py",
   "mimetype": "text/x-python",
   "name": "python",
   "nbconvert_exporter": "python",
   "pygments_lexer": "ipython3",
   "version": "3.11.2"
  },
  "vscode": {
   "interpreter": {
    "hash": "aee8b7b246df8f9039afb4144a1f6fd8d2ca17a180786b69acc140d282b71a49"
   }
  }
 },
 "nbformat": 4,
 "nbformat_minor": 5
}
