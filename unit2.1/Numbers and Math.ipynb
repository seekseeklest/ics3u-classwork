{
 "cells": [
  {
   "cell_type": "code",
   "execution_count": 5,
   "id": "463dcdfd-6c5a-4e0d-ab46-c4b39b0c5c30",
   "metadata": {},
   "outputs": [
    {
     "name": "stdout",
     "output_type": "stream",
     "text": [
      "That means 11 / 33 % are girls...\n"
     ]
    }
   ],
   "source": [
    "print(f\"That means {11 / 33} % are girls...\")"
   ]
  },
  {
   "cell_type": "code",
   "execution_count": null,
   "id": "2dbaf91c-d76f-454d-99ff-f027b6f41fd0",
   "metadata": {},
   "outputs": [],
   "source": []
  }
 ],
 "metadata": {
  "kernelspec": {
   "display_name": "Python 3 (ipykernel)",
   "language": "python",
   "name": "python3"
  },
  "language_info": {
   "codemirror_mode": {
    "name": "ipython",
    "version": 3
   },
   "file_extension": ".py",
   "mimetype": "text/x-python",
   "name": "python",
   "nbconvert_exporter": "python",
   "pygments_lexer": "ipython3",
   "version": "3.12.4"
  }
 },
 "nbformat": 4,
 "nbformat_minor": 5
}
